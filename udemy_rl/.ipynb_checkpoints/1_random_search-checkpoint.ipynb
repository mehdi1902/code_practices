{
 "cells": [
  {
   "cell_type": "code",
   "execution_count": 37,
   "metadata": {},
   "outputs": [],
   "source": [
    "import gym\n",
    "import numpy as np"
   ]
  },
  {
   "cell_type": "code",
   "execution_count": 40,
   "metadata": {},
   "outputs": [],
   "source": [
    "def get_action(state, w):\n",
    "    return 1 if state.dot(w)>.5 else 0"
   ]
  },
  {
   "cell_type": "code",
   "execution_count": 43,
   "metadata": {},
   "outputs": [],
   "source": [
    "def play_one_episode(env, params, max_iter=10000):\n",
    "    observation = env.reset()\n",
    "    done = False\n",
    "    i = 0\n",
    "    while not done and i < max_iter:\n",
    "        i += 1\n",
    "        observation, r, done, _ = env.step(get_action(observation, params))\n",
    "    return i"
   ]
  },
  {
   "cell_type": "code",
   "execution_count": 45,
   "metadata": {},
   "outputs": [],
   "source": [
    "def play_multiple_episodes(env, N, params, max_iter=10000):\n",
    "    sum_value = 0\n",
    "    for i in range(N):\n",
    "        sum_value += play_one_episode(env, params, max_iter)\n",
    "    return sum_value / float(N)"
   ]
  },
  {
   "cell_type": "code",
   "execution_count": 47,
   "metadata": {},
   "outputs": [],
   "source": [
    "def random_search(env, n_episodes, n_iters, max_iter=10000):\n",
    "    params = np.random(4)*2 - 1\n",
    "    best = max_iter\n",
    "    for i in range(n_episodes):\n",
    "        avg_value = play_multiple_episodes(env, n_iters, params, max_iter)\n",
    "        if avg_value > best:\n",
    "            best = avg_value\n",
    "            best_params = params\n",
    "    return best_params, best"
   ]
  },
  {
   "cell_type": "code",
   "execution_count": 36,
   "metadata": {},
   "outputs": [
    {
     "name": "stdout",
     "output_type": "stream",
     "text": [
      "\u001b[33mWARN: gym.spaces.Box autodetected dtype as <type 'numpy.float32'>. Please provide explicit dtype.\u001b[0m\n",
      "[ 0.04080566  0.20534092  0.03621742 -0.23739446] 1.0 {}\n",
      "[0.04491248 0.00972077 0.03146953 0.06648893] 1.0 {}\n",
      "[ 0.0451069   0.20437773  0.03279931 -0.21610143] 1.0 {}\n",
      "[ 0.04919445  0.39901581  0.02847728 -0.49826025] 1.0 {}\n",
      "[ 0.05717477  0.20350417  0.01851207 -0.19674051] 1.0 {}\n",
      "[0.06124485 0.00812239 0.01457726 0.10172419] 1.0 {}\n",
      "[ 0.0614073  -0.18720541  0.01661175  0.39897032] 1.0 {}\n",
      "[ 0.05766319 -0.38255903  0.02459115  0.69684395] 1.0 {}\n",
      "[ 0.05001201 -0.18778658  0.03852803  0.41200267] 1.0 {}\n",
      "[0.04625628 0.00676863 0.04676808 0.13171088] 1.0 {}\n",
      "[ 0.04639165 -0.18899097  0.0494023   0.438774  ] 1.0 {}\n",
      "[ 0.04261183 -0.38477606  0.05817778  0.74661171] 1.0 {}\n",
      "[ 0.03491631 -0.19050302  0.07311002  0.47278979] 1.0 {}\n",
      "[0.03110625 0.00351434 0.08256581 0.20401638] 1.0 {}\n",
      "[ 0.03117654 -0.19268536  0.08664614  0.52156014] 1.0 {}\n",
      "[ 0.02732283 -0.38891324  0.09707734  0.84023986] 1.0 {}\n",
      "[ 0.01954457 -0.58521699  0.11388214  1.16180504] 1.0 {}\n",
      "[ 0.00784023 -0.39174735  0.13711824  0.90688942] 1.0 {}\n",
      "[ 5.27963398e-06 -5.88432653e-01  1.55256029e-01  1.23933480e+00] 1.0 {}\n",
      "[-0.01176337 -0.39560735  0.18004273  0.99903792] 1.0 {}\n",
      "[-0.01967552 -0.59261931  0.20002348  1.34242618] 1.0 {}\n",
      "[-0.03152791 -0.78961559  0.22687201  1.69044457] 1.0 {}\n"
     ]
    }
   ],
   "source": [
    "if __name__ == '__main__':\n",
    "    env = gym.make('CartPole-v0')\n",
    "    random_search(env, 100, 100)"
   ]
  }
 ],
 "metadata": {
  "kernelspec": {
   "display_name": "Python 2",
   "language": "python",
   "name": "python2"
  },
  "language_info": {
   "codemirror_mode": {
    "name": "ipython",
    "version": 2
   },
   "file_extension": ".py",
   "mimetype": "text/x-python",
   "name": "python",
   "nbconvert_exporter": "python",
   "pygments_lexer": "ipython2",
   "version": "2.7.14"
  }
 },
 "nbformat": 4,
 "nbformat_minor": 2
}
